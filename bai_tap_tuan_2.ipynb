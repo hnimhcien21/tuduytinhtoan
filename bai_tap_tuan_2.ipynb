{
 "cells": [
  {
   "cell_type": "code",
   "execution_count": 1,
   "id": "df76154186a406d0",
   "metadata": {
    "ExecuteTime": {
     "end_time": "2025-10-05T12:11:01.333471Z",
     "start_time": "2025-10-05T12:11:01.330375Z"
    }
   },
   "outputs": [
    {
     "name": "stdout",
     "output_type": "stream",
     "text": [
      "2\n"
     ]
    }
   ],
   "source": [
    "#W1A1\n",
    "a = 7  # Gán giá trị 7 cho biến a\n",
    "b = 5  # Gán giá trị 5 cho biến b\n",
    "c = a - b  # Tính hiệu của a và b, lưu vào biến c (7 - 5 = 2)\n",
    "print(c)  # In ra giá trị của biến c (kết quả là 2)"
   ]
  },
  {
   "cell_type": "code",
   "execution_count": 2,
   "id": "a9adac3c91c88bf1",
   "metadata": {
    "ExecuteTime": {
     "end_time": "2025-10-05T12:11:01.362734Z",
     "start_time": "2025-10-05T12:11:01.360252Z"
    }
   },
   "outputs": [
    {
     "name": "stdout",
     "output_type": "stream",
     "text": [
      "Thành phố: Hanoi  -Năm: 2025\n"
     ]
    }
   ],
   "source": [
    "#W1A2\n",
    "city = \"Hanoi\"\n",
    "year = 2025\n",
    "print(\"Thành phố:\", city, \" -Năm:\", year)"
   ]
  },
  {
   "cell_type": "code",
   "execution_count": 3,
   "id": "87aa6073485d15b",
   "metadata": {
    "ExecuteTime": {
     "end_time": "2025-10-05T12:11:01.377047Z",
     "start_time": "2025-10-05T12:11:01.374683Z"
    }
   },
   "outputs": [
    {
     "name": "stdout",
     "output_type": "stream",
     "text": [
      "Thành phố: Hanoi - Năm: 2025\n"
     ]
    }
   ],
   "source": [
    "#W1A2\n",
    "city = \"Hanoi\"  # Gán chuỗi \"Hanoi\" cho biến city\n",
    "year = 2025  # Gán số 2025 cho biến year\n",
    "print(\"Thành phố:\", city, \"- Năm:\", year)  # In ra chuỗi kết hợp với giá trị của city và year"
   ]
  },
  {
   "cell_type": "code",
   "execution_count": 4,
   "id": "43ac7f69a1f8d77a",
   "metadata": {
    "ExecuteTime": {
     "end_time": "2025-10-05T12:11:01.391524Z",
     "start_time": "2025-10-05T12:11:01.388661Z"
    }
   },
   "outputs": [
    {
     "name": "stdout",
     "output_type": "stream",
     "text": [
      "10\n"
     ]
    }
   ],
   "source": [
    "#W1A3\n",
    "# Đoạn code này tính tổng các số nguyên từ 1 đến n (với n = 4).\n",
    "# Kết quả in ra là 10, vì 1 + 2 + 3 + 4 = 10.\n",
    "\n",
    "# Giải thích từng dòng:\n",
    "n = 4  # Gán giá trị 4 cho biến n (số lượng số cần tính tổng)\n",
    "t = 0  # Khởi tạo biến t bằng 0 để lưu tổng\n",
    "for i in range(1, n + 1):  # Vòng lặp chạy từ 1 đến n (bao gồm cả n)\n",
    "    t += i  # Cộng giá trị i vào biến t ở mỗi vòng lặp\n",
    "print(t)  # In ra tổng các số từ 1 đến n (kết quả là 10)"
   ]
  },
  {
   "cell_type": "code",
   "execution_count": null,
   "id": "3de4aa8233c21cdf",
   "metadata": {
    "ExecuteTime": {
     "end_time": "2025-10-05T12:12:56.250012Z",
     "start_time": "2025-10-05T12:12:56.247050Z"
    }
   },
   "outputs": [
    {
     "name": "stdout",
     "output_type": "stream",
     "text": [
      "1 là số lẻ\n",
      "2 là số chẵn\n",
      "3 là số lẻ\n",
      "4 là số chẵn\n"
     ]
    }
   ],
   "source": [
    "#W1A4\n",
    "numbers = [1, 2, 3, 4] # Danh sách các số từ 1 đến 4\n",
    "for x in numbers:       # Lặp qua từng số trong danh sách\n",
    "    if x % 2 == 0:   # Kiểm tra nếu số x là số chẵn\n",
    "        print(x, \"là số chẵn\") # In ra số chẵn\n",
    "    else:        # Nếu không phải số chẵn thì là số lẻ\n",
    "        print(x, \"là số lẻ\")    # In ra số lẻ"
   ]
  },
  {
   "cell_type": "code",
   "execution_count": 8,
   "id": "40f70790c212f08a",
   "metadata": {},
   "outputs": [
    {
     "name": "stdout",
     "output_type": "stream",
     "text": [
      "Số phần tử trong danh sách là: 4\n"
     ]
    }
   ],
   "source": [
    "#W1A5\n",
    "animals = ['cat', 'dog','cat', 'bird']      # Khởi tạo danh sách animals chứa 4 phần tử: 'cat', 'dog', 'cat', 'bird'\n",
    "count = 0                                   # Khởi tạo biến count bằng 0 để lưu số phần tử\n",
    "for a in animals:                           # Lặp qua từng phần tử a trong danh sách animals\n",
    "    count += 1                              # Mỗi lần lặp, tăng count lên 1\n",
    "print(\"Số phần tử trong danh sách là:\", count)  # In ra tổng số phần tử đã đếm được (là 4)\n"
   ]
  },
  {
   "cell_type": "code",
   "execution_count": null,
   "id": "937583d7",
   "metadata": {},
   "outputs": [],
   "source": [
    "#W1A6\n",
    "# Simple menu\n",
    "print(\"=== AI Prediction System ===\") # In ra tiêu đề của hệ thống dự đoán AI\n",
    "print(\"1) Sentiment analysis\")      # In ra tùy chọn 1: Phân tích cảm xúc\n",
    "print(\"2) Weather forecast\")      # In ra tùy chọn 2: Dự báo thời tiết\n",
    "print('3) Exit')            # In ra tùy chọn 3: Thoát\n",
    "print(\"Please choose an option:\")               # In ra lời nhắc người dùng chọn một tùy chọn"
   ]
  },
  {
   "cell_type": "code",
   "execution_count": 9,
   "id": "bbf91730ae5be280",
   "metadata": {},
   "outputs": [
    {
     "name": "stdout",
     "output_type": "stream",
     "text": [
      "Số chẵn\n"
     ]
    }
   ],
   "source": [
    "#W1A7\n",
    "num = int(input(\"Nhập số: \"))  # Chuyển input sang số nguyên\n",
    "if num % 2 == 0:               # Dùng toán tử so sánh ==\n",
    "    print(\"Số chẵn\")\n",
    "else:                          # Thêm dấu :\n",
    "    print(\"Số lẻ\")"
   ]
  },
  {
   "cell_type": "code",
   "execution_count": 2,
   "id": "03a9f6af",
   "metadata": {},
   "outputs": [
    {
     "name": "stdout",
     "output_type": "stream",
     "text": [
      "AI đang học lần 1\n",
      "Huấn luyện xong!\n",
      "AI đang học lần 2\n",
      "Huấn luyện xong!\n",
      "AI đang học lần 3\n",
      "Huấn luyện xong!\n"
     ]
    }
   ],
   "source": [
    "#W1A8\n",
    "for i in range(3):                      # Lặp 3 lần, i sẽ nhận giá trị 0, 1, 2\n",
    "    print(\"AI đang học lần\", i + 1)     # In ra dòng thông báo với số lần học (i + 1 để bắt đầu từ 1)\n",
    "    print(\"Huấn luyện xong!\")           # In ra dòng thông báo kết thúc huấn luyện sau mỗi lần lặp"
   ]
  },
  {
   "cell_type": "code",
   "execution_count": 3,
   "id": "fd9efd8a",
   "metadata": {},
   "outputs": [
    {
     "name": "stdout",
     "output_type": "stream",
     "text": [
      "Dự đoán con vật: cat\n",
      "Dự đoán con vật: dog\n",
      "Dự đoán con vật: fish\n"
     ]
    }
   ],
   "source": [
    "#W1A9\n",
    "for x in [\"cat\", \"dog\", \"fish\"]:  # Lặp qua từng con vật trong danh sách\n",
    "    print(\"Dự đoán con vật:\", x)  # In ra dòng thông báo dự đoán con vật"
   ]
  },
  {
   "cell_type": "code",
   "execution_count": 7,
   "id": "029c07d4",
   "metadata": {},
   "outputs": [
    {
     "name": "stdout",
     "output_type": "stream",
     "text": [
      "=== AI Prediction System ===\n",
      "1) Sentiment analysis\n",
      "2) Weather forecast\n",
      "3) Exit\n",
      "Please choose an option:\n"
     ]
    }
   ],
   "source": [
    "#W1A10\n",
    "# Simple menu\n",
    "print(\"=== AI Prediction System ===\")\n",
    "print(\"1) Sentiment analysis\")\n",
    "print(\"2) Weather forecast\")\n",
    "print('3) Exit')\n",
    "print(\"Please choose an option:\")"
   ]
  }
 ],
 "metadata": {
  "kernelspec": {
   "display_name": "Python 3",
   "language": "python",
   "name": "python3"
  },
  "language_info": {
   "codemirror_mode": {
    "name": "ipython",
    "version": 3
   },
   "file_extension": ".py",
   "mimetype": "text/x-python",
   "name": "python",
   "nbconvert_exporter": "python",
   "pygments_lexer": "ipython3",
   "version": "3.13.7"
  }
 },
 "nbformat": 4,
 "nbformat_minor": 5
}
