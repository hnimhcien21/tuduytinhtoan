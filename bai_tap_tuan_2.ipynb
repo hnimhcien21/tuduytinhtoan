{
 "cells": [
  {
   "cell_type": "code",
   "execution_count": 8,
   "id": "99d0cc24",
   "metadata": {},
   "outputs": [
    {
     "name": "stdout",
     "output_type": "stream",
     "text": [
      "2\n"
     ]
    }
   ],
   "source": [
    "#W1A1\n",
    "a = 7           # Gán giá trị 7 cho biến a\n",
    "b = 5           # Gán giá trị 5 cho biến b\n",
    "c = a - b       # Tính hiệu của a và b, lưu vào biến c (7 - 5 = 2)\n",
    "print(c)        # In ra giá trị của biến c (kết quả là 2)"
   ]
  },
  {
   "cell_type": "code",
   "execution_count": 9,
   "id": "c6a74dac",
   "metadata": {},
   "outputs": [
    {
     "name": "stdout",
     "output_type": "stream",
     "text": [
      "Thành phố: Hanoi  -Năm: 2025\n"
     ]
    }
   ],
   "source": [
    "#W1A2\n",
    "city = \"Hanoi\" \n",
    "year = 2025\n",
    "print(\"Thành phố:\" , city,\" -Năm:\" , year)"
   ]
  },
  {
   "cell_type": "code",
   "execution_count": 10,
   "id": "7e5acd2e",
   "metadata": {},
   "outputs": [
    {
     "name": "stdout",
     "output_type": "stream",
     "text": [
      "Thành phố: Hanoi - Năm: 2025\n"
     ]
    }
   ],
   "source": [
    "#W1A2\n",
    "city = \"Hanoi\"           # Gán chuỗi \"Hanoi\" cho biến city\n",
    "year = 2025              # Gán số 2025 cho biến year\n",
    "print(\"Thành phố:\" , city,\"- Năm:\" , year)  # In ra chuỗi kết hợp với giá trị của city và year"
   ]
  },
  {
   "cell_type": "code",
   "execution_count": 11,
   "id": "0a37f058",
   "metadata": {},
   "outputs": [
    {
     "name": "stdout",
     "output_type": "stream",
     "text": [
      "10\n"
     ]
    }
   ],
   "source": [
    "#W1A3\n",
    "# Đoạn code này tính tổng các số nguyên từ 1 đến n (với n = 4).\n",
    "# Kết quả in ra là 10, vì 1 + 2 + 3 + 4 = 10.\n",
    "\n",
    "# Giải thích từng dòng:\n",
    "n = 4           # Gán giá trị 4 cho biến n (số lượng số cần tính tổng)\n",
    "t = 0           # Khởi tạo biến t bằng 0 để lưu tổng\n",
    "for i in range(1, n + 1):  # Vòng lặp chạy từ 1 đến n (bao gồm cả n)\n",
    "    t += i      # Cộng giá trị i vào biến t ở mỗi vòng lặp\n",
    "print(t)        # In ra tổng các số từ 1 đến n (kết quả là 10)"
   ]
  },
  {
   "cell_type": "code",
   "execution_count": 12,
   "id": "7334b3de",
   "metadata": {},
   "outputs": [
    {
     "ename": "SyntaxError",
     "evalue": "invalid syntax (3075192943.py, line 1)",
     "output_type": "error",
     "traceback": [
      "  \u001b[36mCell\u001b[39m\u001b[36m \u001b[39m\u001b[32mIn[12]\u001b[39m\u001b[32m, line 1\u001b[39m\n\u001b[31m    \u001b[39m\u001b[31mđoạn code thực hiện công việc gì, kết quả in ra bao nhiêu, vì sao ra kết quả như vậy, giải thích từng dòng\u001b[39m\n         ^\n\u001b[31mSyntaxError\u001b[39m\u001b[31m:\u001b[39m invalid syntax\n"
     ]
    }
   ],
   "source": [
    "đoạn code thực hiện công việc gì, kết quả in ra bao nhiêu, vì sao ra kết quả như vậy, giải thích từng dòng"
   ]
  },
  {
   "cell_type": "code",
   "execution_count": null,
   "id": "a31e6f5e",
   "metadata": {},
   "outputs": [],
   "source": [
    "#W1A4\n",
    "numbers = [1,2,3,4]\n",
    "for x in xbers:\n",
    "    if x % 2 == 0:\n",
    "        print(x, \"là số chẵn\")\n",
    "    else:\n",
    "        print(x, \"là số lẻ\")"
   ]
  }
 ],
 "metadata": {
  "kernelspec": {
   "display_name": "Python 3",
   "language": "python",
   "name": "python3"
  },
  "language_info": {
   "codemirror_mode": {
    "name": "ipython",
    "version": 3
   },
   "file_extension": ".py",
   "mimetype": "text/x-python",
   "name": "python",
   "nbconvert_exporter": "python",
   "pygments_lexer": "ipython3",
   "version": "3.13.7"
  }
 },
 "nbformat": 4,
 "nbformat_minor": 5
}
