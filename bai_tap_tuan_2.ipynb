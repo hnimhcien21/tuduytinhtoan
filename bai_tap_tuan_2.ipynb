{
 "cells": [
  {
   "metadata": {
    "ExecuteTime": {
     "end_time": "2025-10-05T12:11:01.333471Z",
     "start_time": "2025-10-05T12:11:01.330375Z"
    }
   },
   "cell_type": "code",
   "source": [
    "#W1A1\n",
    "a = 7  # Gán giá trị 7 cho biến a\n",
    "b = 5  # Gán giá trị 5 cho biến b\n",
    "c = a - b  # Tính hiệu của a và b, lưu vào biến c (7 - 5 = 2)\n",
    "print(c)  # In ra giá trị của biến c (kết quả là 2)"
   ],
   "id": "df76154186a406d0",
   "outputs": [
    {
     "name": "stdout",
     "output_type": "stream",
     "text": [
      "2\n"
     ]
    }
   ],
   "execution_count": 1
  },
  {
   "metadata": {
    "ExecuteTime": {
     "end_time": "2025-10-05T12:11:01.362734Z",
     "start_time": "2025-10-05T12:11:01.360252Z"
    }
   },
   "cell_type": "code",
   "source": [
    "#W1A2\n",
    "city = \"Hanoi\"\n",
    "year = 2025\n",
    "print(\"Thành phố:\", city, \" -Năm:\", year)"
   ],
   "id": "a9adac3c91c88bf1",
   "outputs": [
    {
     "name": "stdout",
     "output_type": "stream",
     "text": [
      "Thành phố: Hanoi  -Năm: 2025\n"
     ]
    }
   ],
   "execution_count": 2
  },
  {
   "metadata": {
    "ExecuteTime": {
     "end_time": "2025-10-05T12:11:01.377047Z",
     "start_time": "2025-10-05T12:11:01.374683Z"
    }
   },
   "cell_type": "code",
   "source": [
    "#W1A2\n",
    "city = \"Hanoi\"  # Gán chuỗi \"Hanoi\" cho biến city\n",
    "year = 2025  # Gán số 2025 cho biến year\n",
    "print(\"Thành phố:\", city, \"- Năm:\", year)  # In ra chuỗi kết hợp với giá trị của city và year"
   ],
   "id": "87aa6073485d15b",
   "outputs": [
    {
     "name": "stdout",
     "output_type": "stream",
     "text": [
      "Thành phố: Hanoi - Năm: 2025\n"
     ]
    }
   ],
   "execution_count": 3
  },
  {
   "metadata": {
    "ExecuteTime": {
     "end_time": "2025-10-05T12:11:01.391524Z",
     "start_time": "2025-10-05T12:11:01.388661Z"
    }
   },
   "cell_type": "code",
   "source": [
    "#W1A3\n",
    "# Đoạn code này tính tổng các số nguyên từ 1 đến n (với n = 4).\n",
    "# Kết quả in ra là 10, vì 1 + 2 + 3 + 4 = 10.\n",
    "\n",
    "# Giải thích từng dòng:\n",
    "n = 4  # Gán giá trị 4 cho biến n (số lượng số cần tính tổng)\n",
    "t = 0  # Khởi tạo biến t bằng 0 để lưu tổng\n",
    "for i in range(1, n + 1):  # Vòng lặp chạy từ 1 đến n (bao gồm cả n)\n",
    "    t += i  # Cộng giá trị i vào biến t ở mỗi vòng lặp\n",
    "print(t)  # In ra tổng các số từ 1 đến n (kết quả là 10)"
   ],
   "id": "43ac7f69a1f8d77a",
   "outputs": [
    {
     "name": "stdout",
     "output_type": "stream",
     "text": [
      "10\n"
     ]
    }
   ],
   "execution_count": 4
  },
  {
   "metadata": {
    "ExecuteTime": {
     "end_time": "2025-10-05T12:12:56.250012Z",
     "start_time": "2025-10-05T12:12:56.247050Z"
    }
   },
   "cell_type": "code",
   "source": [
    "#W1A4\n",
    "numbers = [1, 2, 3, 4]\n",
    "for x in numbers:\n",
    "    if x % 2 == 0:\n",
    "        print(x, \"là số chẵn\")\n",
    "    else:\n",
    "        print(x, \"là số lẻ\")"
   ],
   "id": "3de4aa8233c21cdf",
   "outputs": [
    {
     "name": "stdout",
     "output_type": "stream",
     "text": [
      "1 là số lẻ\n",
      "2 là số chẵn\n",
      "3 là số lẻ\n",
      "4 là số chẵn\n"
     ]
    }
   ],
   "execution_count": 11
  },
  {
   "metadata": {},
   "cell_type": "code",
   "outputs": [],
   "execution_count": null,
   "source": [
    "#W1A5\n",
    "animals = ['cat', 'dog','cat', 'bird']      # Khởi tạo danh sách animals chứa 4 phần tử: 'cat', 'dog', 'cat', 'bird'\n",
    "count = 0                                   # Khởi tạo biến count bằng 0 để lưu số phần tử\n",
    "for a in animals:                           # Lặp qua từng phần tử a trong danh sách animals\n",
    "    count += 1                              # Mỗi lần lặp, tăng count lên 1\n",
    "print(\"Số phần tử trong danh sách là:\", count)  # In ra tổng số phần tử đã đếm được (là 4)\n"
   ],
   "id": "40f70790c212f08a"
  },
  {
   "metadata": {},
   "cell_type": "code",
   "outputs": [],
   "execution_count": null,
   "source": "",
   "id": "bbf91730ae5be280"
  }
 ],
 "metadata": {
  "kernelspec": {
   "display_name": "Python 3",
   "language": "python",
   "name": "python3"
  },
  "language_info": {
   "codemirror_mode": {
    "name": "ipython",
    "version": 3
   },
   "file_extension": ".py",
   "mimetype": "text/x-python",
   "name": "python",
   "nbconvert_exporter": "python",
   "pygments_lexer": "ipython3",
   "version": "3.13.7"
  }
 },
 "nbformat": 4,
 "nbformat_minor": 5
}
