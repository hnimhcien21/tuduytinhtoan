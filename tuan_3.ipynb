{
 "cells": [
  {
   "cell_type": "code",
   "execution_count": 1,
   "id": "d5662254",
   "metadata": {},
   "outputs": [
    {
     "name": "stdout",
     "output_type": "stream",
     "text": [
      "4321\n"
     ]
    }
   ],
   "source": [
    "# Các chữ số đảo ngược nhau\n",
    "n = int(input())\n",
    "print(str(n)[::-1])"
   ]
  },
  {
   "cell_type": "code",
   "execution_count": null,
   "id": "dddf5aa3",
   "metadata": {},
   "outputs": [],
   "source": [
    "# Hoán đổi hai số không sd biến tạm thời\n",
    "a, b = map(int, input().split())\n",
    "print(b, a)"
   ]
  },
  {
   "cell_type": "code",
   "execution_count": null,
   "id": "1a7e3f79",
   "metadata": {},
   "outputs": [],
   "source": [
    "# Kiểm tra xem một số có phải là lũy thừa của 2 hay không\n",
    "n = int(input())\n",
    "if n > 0 and (n & (n - 1)) == 0:\n",
    "    print(\"True\")\n",
    "else:\n",
    "    print(\"False\")\n",
    "        "
   ]
  },
  {
   "cell_type": "code",
   "execution_count": 2,
   "id": "f9f232e4",
   "metadata": {},
   "outputs": [
    {
     "name": "stdout",
     "output_type": "stream",
     "text": [
      "0\n"
     ]
    }
   ],
   "source": [
    "#  Chương trình chia một số m cho n, kết quả thu được làm tròn xuống\n",
    "m, n = map(int, input().split())\n",
    "print(m // n)"
   ]
  },
  {
   "cell_type": "code",
   "execution_count": null,
   "id": "cacc36ae",
   "metadata": {},
   "outputs": [],
   "source": [
    "# Chương trình chia một số m cho n, kết quả thu được làm tròn lên\n",
    "from math import *\n",
    "m, n = map(int, input().split())\n",
    "print(ceil(m / n))"
   ]
  },
  {
   "cell_type": "code",
   "execution_count": null,
   "id": "3b9e14d6",
   "metadata": {},
   "outputs": [],
   "source": [
    "# Even and Odd\n",
    "n = int(input())\n",
    "if n % 2 == 0:  \n",
    "    print(\"Even\")       \n",
    "else:\n",
    "    print(\"Odd\")\n",
    "            "
   ]
  },
  {
   "cell_type": "code",
   "execution_count": null,
   "id": "61b4c8fa",
   "metadata": {},
   "outputs": [],
   "source": [
    "# Check negative numbers\n",
    "a = int(input())\n",
    "b = int(input())\n",
    "if a < 0 or b < 0:\n",
    "    print(\"Yes\")\n",
    "else:\n",
    "    print(\"No\")"
   ]
  },
  {
   "cell_type": "code",
   "execution_count": null,
   "id": "a39a4ffa",
   "metadata": {},
   "outputs": [],
   "source": [
    "# Longer string\n",
    "a = input()\n",
    "b = input()\n",
    "if len(a) > len(b):\n",
    "    print(\"True\")\n",
    "else:    \n",
    "    print(\"False\")  \n",
    "    "
   ]
  },
  {
   "cell_type": "code",
   "execution_count": null,
   "id": "d60989f4",
   "metadata": {},
   "outputs": [],
   "source": [
    "# Triagle\n",
    "a = int(input())\n",
    "b = int(input())\n",
    "c = int(input())\n",
    "if a + b > c and a + c > b and b + c > a:\n",
    "    print(\"Yes\")\n",
    "else:    \n",
    "    print(\"No\")\n",
    "    "
   ]
  }
 ],
 "metadata": {
  "kernelspec": {
   "display_name": ".venv",
   "language": "python",
   "name": "python3"
  },
  "language_info": {
   "codemirror_mode": {
    "name": "ipython",
    "version": 3
   },
   "file_extension": ".py",
   "mimetype": "text/x-python",
   "name": "python",
   "nbconvert_exporter": "python",
   "pygments_lexer": "ipython3",
   "version": "3.13.7"
  }
 },
 "nbformat": 4,
 "nbformat_minor": 5
}
