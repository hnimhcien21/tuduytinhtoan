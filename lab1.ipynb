{
 "cells": [
  {
   "cell_type": "code",
   "execution_count": 1,
   "metadata": {
    "colab": {
     "base_uri": "https://localhost:8080/"
    },
    "id": "xcvbJWRXkj-z",
    "outputId": "7d4c5771-d647-4d44-b2fe-c967de4be85a"
   },
   "outputs": [
    {
     "name": "stdout",
     "output_type": "stream",
     "text": [
      "Hello World!\n"
     ]
    }
   ],
   "source": [
    "from tornado.gen import multi\n",
    "\n",
    "#W2A1\n",
    "print(\"Hello World!\")"
   ]
  },
  {
   "cell_type": "code",
   "execution_count": 40,
   "metadata": {
    "colab": {
     "base_uri": "https://localhost:8080/"
    },
    "id": "BUDIWbCyk8YE",
    "outputId": "d620e25f-06ed-49fa-ea02-ce0e3745708d"
   },
   "outputs": [
    {
     "name": "stdout",
     "output_type": "stream",
     "text": [
      " What is your name? chiến\n",
      " Hello chiến\n"
     ]
    }
   ],
   "source": [
    "#W2A2\n",
    "name = input(\" What is your name? \")\n",
    "\n",
    "print(f\" Hello {name}\")"
   ]
  },
  {
   "cell_type": "code",
   "execution_count": 12,
   "metadata": {
    "ExecuteTime": {
     "end_time": "2025-09-23T04:46:55.240343Z",
     "start_time": "2025-09-23T04:46:41.754209Z"
    }
   },
   "outputs": [
    {
     "name": "stdout",
     "output_type": "stream",
     "text": [
      " Tổng = 7\n",
      " Hiệu = 3\n",
      " Tích = 10\n",
      "Phần nguyên = 2\n",
      "Phần dư = 1\n",
      " Thương =  2.5\n"
     ]
    }
   ],
   "source": [
    "#W2A3\n",
    "a = int(input(\" Nhập số nguyên a: \"))\n",
    "b = int(input(\" Nhập số nguyên b: \"))\n",
    "print(\" Tổng =\", a + b)\n",
    "print(\" Hiệu =\", a - b)\n",
    "print(\" Tích =\", a * b)\n",
    "if b==0 :\n",
    "    print(\" Không chia được cho 0\")\n",
    "else :\n",
    "    thuong = a/b\n",
    "    thuong_nguyen = a//b\n",
    "    phan_du = a%b\n",
    "    print(f\" Phần nguyên = {thuong_nguyen}\")\n",
    "    print(f\" Phần dư = {phan_du}\")\n",
    "    print(\" Thương = \", round(thuong,2))\n",
    "\n"
   ]
  },
  {
   "cell_type": "code",
   "metadata": {
    "ExecuteTime": {
     "end_time": "2025-09-29T09:49:34.466481Z",
     "start_time": "2025-09-29T09:49:26.410620Z"
    }
   },
   "source": [
    "    #W2A4\n",
    "a1, b1, c1, a2, b2, a3 = map(float, input(\" Nhập điểm :\").split())\n",
    "tb = ((a1 + b1 + c1 ) + (a2 + b2 )*2 + a3*3)/10\n",
    "print(\"Điểm trung bình : \", round(tb, 1))"
   ],
   "outputs": [
    {
     "name": "stdout",
     "output_type": "stream",
     "text": [
      "Điểm trung bình :  3.7\n"
     ]
    }
   ],
   "execution_count": 2
  },
  {
   "cell_type": "code",
   "execution_count": 17,
   "metadata": {
    "ExecuteTime": {
     "end_time": "2025-09-23T05:05:08.777292Z",
     "start_time": "2025-09-23T05:05:03.336622Z"
    }
   },
   "outputs": [
    {
     "name": "stdout",
     "output_type": "stream",
     "text": [
      "a mũ b = 8.0\n"
     ]
    }
   ],
   "source": [
    "#W2A5\n",
    "a, b = map(float, input (\"Nhập số a và b :\").split())\n",
    "print(\"a mũ b =\", a**b)"
   ]
  },
  {
   "cell_type": "code",
   "metadata": {
    "ExecuteTime": {
     "end_time": "2025-09-29T09:48:58.272982Z",
     "start_time": "2025-09-29T09:48:55.696821Z"
    }
   },
   "source": [
    "#W2A6\n",
    "x = input()\n",
    "print(ord(x))\n",
    "print(chr(ord(x)-32))"
   ],
   "outputs": [
    {
     "name": "stdout",
     "output_type": "stream",
     "text": [
      "98\n",
      "B\n"
     ]
    }
   ],
   "execution_count": 1
  },
  {
   "cell_type": "code",
   "execution_count": 1,
   "metadata": {
    "ExecuteTime": {
     "end_time": "2025-09-29T09:07:28.691614Z",
     "start_time": "2025-09-29T09:07:28.688138Z"
    }
   },
   "outputs": [
    {
     "name": "stdout",
     "output_type": "stream",
     "text": [
      "512\n",
      "512\n"
     ]
    }
   ],
   "source": [
    "#W2A7\n",
    "A = ((13 ** 2) * 3) + 5\n",
    "B = 13**2*3 + 5\n",
    "print(A)\n",
    "print(B)"
   ]
  },
  {
   "cell_type": "code",
   "execution_count": 4,
   "metadata": {
    "ExecuteTime": {
     "end_time": "2025-09-29T09:11:18.433413Z",
     "start_time": "2025-09-29T09:11:12.948123Z"
    }
   },
   "outputs": [
    {
     "name": "stdout",
     "output_type": "stream",
     "text": [
      "Nhiệt độ theo độ F là : 32.18\n"
     ]
    }
   ],
   "source": [
    "#W2A8\n",
    "C = float(input(\"Nhập nhiệt độ : \"))\n",
    "F = 9/5*C + 32\n",
    "print(\"Nhiệt độ theo độ F là :\",round(F,2))"
   ]
  },
  {
   "cell_type": "code",
   "execution_count": 7,
   "metadata": {
    "ExecuteTime": {
     "end_time": "2025-09-29T09:17:30.165414Z",
     "start_time": "2025-09-29T09:17:27.061681Z"
    }
   },
   "outputs": [
    {
     "name": "stdout",
     "output_type": "stream",
     "text": [
      "Tổng số tiền phải trả là 150.0 USD\n"
     ]
    }
   ],
   "source": [
    "#W2A9\n",
    "price = float(input(\"Nhập giá sản phẩm : \"))\n",
    "sum = 10 + price*1.4\n",
    "print(f\"Tổng số tiền phải trả là {round(sum,2)} USD\")"
   ]
  },
  {
   "cell_type": "code",
   "execution_count": 25,
   "metadata": {
    "colab": {
     "base_uri": "https://localhost:8080/"
    },
    "id": "hiY90RFenSGN",
    "outputId": "af099175-94aa-4f09-9ca7-1f6602513a9c"
   },
   "outputs": [
    {
     "name": "stdout",
     "output_type": "stream",
     "text": [
      "Nhập tên 3 người:c h d\n",
      "Hi d , h and d\n"
     ]
    }
   ],
   "source": [
    "#W2A10\n",
    "a, b, c = input(\"Nhập tên 3 người:\").split()\n",
    "print(\"Hi\",c,\",\",b,\"and\",c)"
   ]
  },
  {
   "cell_type": "code",
   "execution_count": 10,
   "metadata": {
    "ExecuteTime": {
     "end_time": "2025-09-29T09:22:21.321792Z",
     "start_time": "2025-09-29T09:22:19.008982Z"
    }
   },
   "outputs": [
    {
     "name": "stdout",
     "output_type": "stream",
     "text": [
      "1 giờ 1 phút = 3660 giây\n"
     ]
    }
   ],
   "source": [
    "#W2A11\n",
    "hour = int(input(\"Nhập số giờ : \"))\n",
    "minute = int(input(\"Nhập số phút :\"))\n",
    "total_second = hour*3600 + minute*60\n",
    "print(f\"{hour} giờ {minute} phút = {total_second} giây\")"
   ]
  },
  {
   "cell_type": "code",
   "execution_count": 12,
   "metadata": {
    "ExecuteTime": {
     "end_time": "2025-09-29T09:26:40.030045Z",
     "start_time": "2025-09-29T09:26:38.715904Z"
    }
   },
   "outputs": [
    {
     "name": "stdout",
     "output_type": "stream",
     "text": [
      "Số miếng dán cần thiết là : 24\n"
     ]
    }
   ],
   "source": [
    "#W2A12\n",
    "n = int(input(\"Độ dài khối rubik :\"))\n",
    "total = n*n*6\n",
    "print(f\"Số miếng dán cần thiết là : {total}\")"
   ]
  },
  {
   "cell_type": "code",
   "metadata": {
    "ExecuteTime": {
     "end_time": "2025-09-29T09:41:17.216870Z",
     "start_time": "2025-09-29T09:41:14.242583Z"
    }
   },
   "source": [
    "#W2A13\n",
    "a, b = map(int,input(\"Nhập 2 số nguyên dương a và b: \").split ())\n",
    "unit = (a*b)%10\n",
    "print(f\"Hàng đơn vị của tích a và b là {unit} \")\n"
   ],
   "outputs": [
    {
     "name": "stdout",
     "output_type": "stream",
     "text": [
      "Hàng đơn vị của tích a và b là 4 \n"
     ]
    }
   ],
   "execution_count": 17
  },
  {
   "metadata": {
    "ExecuteTime": {
     "end_time": "2025-09-29T09:46:27.660041Z",
     "start_time": "2025-09-29T09:46:24.831605Z"
    }
   },
   "cell_type": "code",
   "source": [
    "#W2A14\n",
    "a, b = map(float,input(\"Nhập 2 số nguyên a và b: \").split ())\n",
    "a, b = b, a\n",
    "print(f\"a và b được hoán đổi : {a,b}\")"
   ],
   "outputs": [
    {
     "name": "stdout",
     "output_type": "stream",
     "text": [
      "a và b được hoán đổi : (2.0, 1.0)\n"
     ]
    }
   ],
   "execution_count": 19
  },
  {
   "metadata": {
    "ExecuteTime": {
     "end_time": "2025-09-29T09:49:45.506667Z",
     "start_time": "2025-09-29T09:49:43.684134Z"
    }
   },
   "cell_type": "code",
   "source": [
    " #W2A15\n",
    "n = int(input(\" Nhập số nguyên dương n :\"))\n",
    "sum = 1\n",
    "for i in range (1,n+1):\n",
    "    sum += 12*(i-1)\n",
    "print(f\" Số sao thứ {n} là {sum}\")"
   ],
   "outputs": [
    {
     "name": "stdout",
     "output_type": "stream",
     "text": [
      " Số sao thứ 6 là 181\n"
     ]
    }
   ],
   "execution_count": 3
  },
  {
   "cell_type": "code",
   "execution_count": 21,
   "metadata": {
    "colab": {
     "base_uri": "https://localhost:8080/"
    },
    "id": "hNsoxo8Oqh9_",
    "outputId": "ae17f0ff-567a-44c9-af35-4511cda17fbd"
   },
   "outputs": [
    {
     "name": "stdout",
     "output_type": "stream",
     "text": [
      "Spring\n",
      "Summer\n",
      "Autumn\n",
      "Winter\n"
     ]
    }
   ],
   "source": [
    "#W2A16\n",
    "print(\"Spring\\nSummer\\nAutumn\\nWinter\")"
   ]
  },
  {
   "cell_type": "code",
   "execution_count": 23,
   "metadata": {
    "colab": {
     "base_uri": "https://localhost:8080/"
    },
    "id": "SOWH4ptfqqor",
    "outputId": "51f46868-2b35-488a-ab62-f2dc50343a1d"
   },
   "outputs": [
    {
     "name": "stdout",
     "output_type": "stream",
     "text": [
      "*\n",
      "***\n",
      "*****\n"
     ]
    }
   ],
   "source": [
    "#W2A17\n",
    "print(\"*\")\n",
    "print(\"***\")\n",
    "print(\"*****\")"
   ]
  },
  {
   "cell_type": "code",
   "execution_count": 37,
   "metadata": {
    "colab": {
     "base_uri": "https://localhost:8080/"
    },
    "id": "6FTzmwYKv3Xw",
    "outputId": "825d605a-16d1-40df-ab0c-8789273ebb49"
   },
   "outputs": [
    {
     "name": "stdout",
     "output_type": "stream",
     "text": [
      "*\n",
      "***\n",
      "*****\n"
     ]
    }
   ],
   "source": [
    "#W2A17.1\n",
    "for i in range (1,6,2):\n",
    "  print(\"*\"*i)"
   ]
  },
  {
   "cell_type": "code",
   "execution_count": 26,
   "metadata": {
    "colab": {
     "base_uri": "https://localhost:8080/"
    },
    "id": "qRQo9QFbr786",
    "outputId": "8c294b7e-0385-4ed3-a212-05ad855b36b1"
   },
   "outputs": [
    {
     "name": "stdout",
     "output_type": "stream",
     "text": [
      "### # #   ### ###\n",
      " #  #  #   #   #\n",
      " #  #   #  #   #\n",
      " #  #  #   #   #\n",
      " #  # #    #   #\n"
     ]
    }
   ],
   "source": [
    "#W2A18\n",
    "print(\"### # #   ### ###\")\n",
    "print(\" #  #  #   #   #\")\n",
    "print(\" #  #   #  #   #\")\n",
    "print(\" #  #  #   #   #\")\n",
    "print(\" #  # #    #   #\")"
   ]
  },
  {
   "cell_type": "code",
   "execution_count": 27,
   "metadata": {
    "colab": {
     "base_uri": "https://localhost:8080/"
    },
    "id": "BdEJcZbyskmq",
    "outputId": "47c843d3-1781-48e4-db60-348f3e01d945"
   },
   "outputs": [
    {
     "name": "stdout",
     "output_type": "stream",
     "text": [
      "Monday\n",
      "Tuesday\n",
      "Wednesday\n",
      "Thursday\n",
      "Friday\n",
      "Saturday\n",
      "Sunday\n"
     ]
    }
   ],
   "source": [
    "#W2A19\n",
    "print(\"Monday\\nTuesday\\nWednesday\\nThursday\\nFriday\\nSaturday\\nSunday\")"
   ]
  },
  {
   "cell_type": "code",
   "execution_count": 31,
   "metadata": {
    "colab": {
     "base_uri": "https://localhost:8080/"
    },
    "id": "V3ERZCuJtIAd",
    "outputId": "1142ccce-5917-448c-bcca-43244a845408"
   },
   "outputs": [
    {
     "name": "stdout",
     "output_type": "stream",
     "text": [
      "January\n",
      "Febuary\n",
      "March\n",
      "April\n",
      "May\n",
      "June\n",
      "July\n",
      "August\n",
      "September\n",
      "October\n",
      "November\n",
      "December\n"
     ]
    }
   ],
   "source": [
    " #W2A20\n",
    " print(\"January\\nFebuary\\nMarch\\nApril\\nMay\\nJune\\nJuly\\nAugust\\nSeptember\\nOctober\\nNovember\\nDecember\")"
   ]
  },
  {
   "cell_type": "code",
   "execution_count": 33,
   "metadata": {
    "colab": {
     "base_uri": "https://localhost:8080/"
    },
    "id": "XzJ7imSbtqSB",
    "outputId": "e621942f-fea5-4830-cfae-85f12fcc3c89"
   },
   "outputs": [
    {
     "name": "stdout",
     "output_type": "stream",
     "text": [
      "Hello World\n",
      "Hello World\n",
      "Hello World\n",
      "Hello World\n",
      "Hello World\n",
      "Hello World\n",
      "Hello World\n",
      "Hello World\n",
      "Hello World\n",
      "Hello World\n"
     ]
    }
   ],
   "source": [
    "#W2A21\n",
    "for i in range (10):\n",
    "    print(\"Hello World\")\n"
   ]
  }
 ],
 "metadata": {
  "colab": {
   "provenance": [],
   "toc_visible": true
  },
  "kernelspec": {
   "display_name": "Python 3 (ipykernel)",
   "language": "python",
   "name": "python3"
  },
  "language_info": {
   "name": "python"
  }
 },
 "nbformat": 4,
 "nbformat_minor": 0
}
