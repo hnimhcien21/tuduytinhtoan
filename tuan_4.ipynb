{
 "cells": [
  {
   "cell_type": "code",
   "execution_count": 148,
   "id": "22eee108",
   "metadata": {},
   "outputs": [
    {
     "name": "stdout",
     "output_type": "stream",
     "text": [
      "5050\n"
     ]
    }
   ],
   "source": [
    "# W4A1\n",
    "# Sum of Numbers\n",
    "n = int(input())\n",
    "sum = 0\n",
    "for i in range(1, n + 1):\n",
    "    sum += i\n",
    "print(sum)    "
   ]
  },
  {
   "cell_type": "code",
   "execution_count": null,
   "id": "0e94807f",
   "metadata": {},
   "outputs": [
    {
     "name": "stdout",
     "output_type": "stream",
     "text": [
      "False\n"
     ]
    }
   ],
   "source": [
    "# W4A2\n",
    "# Prime Number\n",
    "n = int(input())\n",
    "while n <= 0:\n",
    "    n = int(input())\n",
    "count = 0\n",
    "for i in range(1, n + 1):\n",
    "    if n % i == 0:\n",
    "        count += 1\n",
    "if count == 2:\n",
    "    print('True')\n",
    "else:\n",
    "    print('False')                "
   ]
  },
  {
   "cell_type": "code",
   "execution_count": null,
   "id": "c198c76f",
   "metadata": {},
   "outputs": [
    {
     "name": "stdout",
     "output_type": "stream",
     "text": [
      "40320\n"
     ]
    }
   ],
   "source": [
    "# W4A3\n",
    "# Factorial\n",
    "n = int(input())\n",
    "res = 1\n",
    "for i in range(1, n + 1):\n",
    "    res *= i\n",
    "print(res)"
   ]
  },
  {
   "cell_type": "code",
   "execution_count": null,
   "id": "be13bedf",
   "metadata": {},
   "outputs": [
    {
     "name": "stdout",
     "output_type": "stream",
     "text": [
      "6\n"
     ]
    }
   ],
   "source": [
    "# W4A4\n",
    "# Counting Digits\n",
    "n = int(input())\n",
    "res = 0\n",
    "a = abs(n)\n",
    "while a > 0:\n",
    "    a //= 10\n",
    "    res += 1 \n",
    "print(res)        \n"
   ]
  },
  {
   "cell_type": "code",
   "execution_count": 30,
   "id": "9110a03c",
   "metadata": {},
   "outputs": [
    {
     "name": "stdout",
     "output_type": "stream",
     "text": [
      "I′ve found the meaning of life!\n"
     ]
    }
   ],
   "source": [
    "# W4A5\n",
    "# Meaning of life\n",
    "n = int(input())\n",
    "numbers = list(map(int, input().split()))\n",
    "if 42 in numbers:\n",
    "    print(\"I′ve found the meaning of life!\")\n",
    "else:\n",
    "    print(\"It's a joke!\")\n"
   ]
  },
  {
   "cell_type": "code",
   "execution_count": 58,
   "id": "9203362d",
   "metadata": {},
   "outputs": [
    {
     "name": "stdout",
     "output_type": "stream",
     "text": [
      "533\n"
     ]
    }
   ],
   "source": [
    "# W4A6\n",
    "# Sum prime in range\n",
    "a, b = map(int, input().split())\n",
    "res = 0\n",
    "\n",
    "def sang_nguyen_to(n):\n",
    "    count = 0\n",
    "    for i in range (1, n + 1):\n",
    "        if n % i == 0:\n",
    "            count += 1\n",
    "    if count == 2:\n",
    "        return True        \n",
    "\n",
    "\n",
    "for i in range(a, b + 1):        \n",
    "    if sang_nguyen_to(i):\n",
    "        res += i  \n",
    "print(res)       "
   ]
  },
  {
   "cell_type": "code",
   "execution_count": null,
   "id": "55e90238",
   "metadata": {},
   "outputs": [
    {
     "name": "stdout",
     "output_type": "stream",
     "text": [
      "99991\n"
     ]
    }
   ],
   "source": [
    "# W4A7\n",
    "# Largest prime factor\n",
    "n = int(input())\n",
    "res = 0\n",
    "i = 2\n",
    "while n > 1:\n",
    "    if n % i == 0:\n",
    "        res = i\n",
    "        while n % i == 0:\n",
    "            n //= i\n",
    "    i += 1\n",
    "print (res)    \n",
    "\n",
    "\n"
   ]
  },
  {
   "cell_type": "code",
   "execution_count": 66,
   "id": "a4796fab",
   "metadata": {},
   "outputs": [
    {
     "name": "stdout",
     "output_type": "stream",
     "text": [
      "1\n",
      "121\n"
     ]
    }
   ],
   "source": [
    "# W4A8\n",
    "# Reverse Add Palindrome\n",
    "n = int(input())\n",
    "count = 0\n",
    "def palindrome(n):\n",
    "        s = str(n)\n",
    "        return s == s[::-1]\n",
    "def reverse(n):\n",
    "        return int(str(n)[::-1])\n",
    "while not palindrome(n):\n",
    "        n = n + reverse(n)\n",
    "        count += 1\n",
    "print(count)\n",
    "print(n)\n",
    "\n"
   ]
  },
  {
   "cell_type": "code",
   "execution_count": 77,
   "id": "415866a1",
   "metadata": {},
   "outputs": [
    {
     "name": "stdout",
     "output_type": "stream",
     "text": [
      "1 4 9 16 25 36 49 64 81 100 121 144 169 196 225 256 289 324 361 400 441 484 529 576 625 676 729 784 841 900 961 1024 1089 1156 1225 1296 1369 1444 1521 1600 1681 1764 1849 1936 2025 2116 2209 2304 2401 2500 2601 2704 2809 2916 3025 3136 3249 3364 3481 3600 3721 3844 3969 4096 4225 4356 4489 4624 4761 4900 "
     ]
    }
   ],
   "source": [
    "# W4A9\n",
    "# Perfect Squares Distinct Digits\n",
    "from math import *\n",
    "n = int(input())\n",
    "for i in range(1 , int(sqrt(n))+1) :\n",
    "    print(i**2, end = ' ')\n"
   ]
  },
  {
   "cell_type": "code",
   "execution_count": 84,
   "id": "5f7bf353",
   "metadata": {},
   "outputs": [
    {
     "name": "stdout",
     "output_type": "stream",
     "text": [
      "171 125\n"
     ]
    }
   ],
   "source": [
    "# W4A10\n",
    "# Longest Collatz Up To N\n",
    "n = int(input())\n",
    "def collatz_length(x):\n",
    "    length = 1\n",
    "    while x != 1:\n",
    "        if x % 2 == 0 :\n",
    "            x = x // 2\n",
    "        else:\n",
    "            x = 3 * x + 1\n",
    "        length += 1\n",
    "    return length\n",
    "max_length = 0\n",
    "res = 1\n",
    "for i in range (1, n + 1):\n",
    "    length = collatz_length(i)\n",
    "    if length > max_length  or (length == max_length and i < res):\n",
    "        max_length = length\n",
    "        res = i\n",
    "print (res , max_length)        \n"
   ]
  },
  {
   "cell_type": "code",
   "execution_count": 87,
   "id": "fe17f59f",
   "metadata": {},
   "outputs": [
    {
     "name": "stdout",
     "output_type": "stream",
     "text": [
      "12\n"
     ]
    }
   ],
   "source": [
    "# W4A11\n",
    "# Even Divisors\n",
    "n = int(input())\n",
    "count = 0\n",
    "for i in range (1, n + 1):\n",
    "    if n % i == 0 and i % 2 == 0:\n",
    "        count += 1\n",
    "print(count)        "
   ]
  },
  {
   "cell_type": "code",
   "execution_count": 92,
   "id": "ad4522a5",
   "metadata": {},
   "outputs": [
    {
     "name": "stdout",
     "output_type": "stream",
     "text": [
      "2055\n"
     ]
    }
   ],
   "source": [
    "# W4A12\n",
    "# Interest\n",
    "x, n = map(int,input().split())\n",
    "T = x * ((1 + 0.7/100)**n)\n",
    "print(int(T))\n"
   ]
  },
  {
   "cell_type": "code",
   "execution_count": 100,
   "id": "e1b04bdf",
   "metadata": {},
   "outputs": [
    {
     "name": "stdout",
     "output_type": "stream",
     "text": [
      "true\n"
     ]
    }
   ],
   "source": [
    "# W4A13\n",
    "# Close Pair Number\n",
    "def tong_uoc(x):\n",
    "    sum = 0\n",
    "    for i in range (1, x):\n",
    "        if x % i == 0 :\n",
    "            sum += i\n",
    "    return sum\n",
    "a, b = map(int, input().split())        \n",
    "if tong_uoc(a) == b and a == tong_uoc(b):\n",
    "    print('true')\n",
    "else:\n",
    "    print('false')    "
   ]
  },
  {
   "cell_type": "code",
   "execution_count": 105,
   "id": "119e1e27",
   "metadata": {},
   "outputs": [
    {
     "name": "stdout",
     "output_type": "stream",
     "text": [
      "8\n"
     ]
    }
   ],
   "source": [
    "# W4A14\n",
    "# Gcd\n",
    "from math import *\n",
    "a, b = map(int,input().split())\n",
    "print(gcd(a,b))"
   ]
  },
  {
   "cell_type": "code",
   "execution_count": 112,
   "id": "7086f7cf",
   "metadata": {},
   "outputs": [
    {
     "name": "stdout",
     "output_type": "stream",
     "text": [
      "invalid\n"
     ]
    }
   ],
   "source": [
    "# W4A15\n",
    "# Chicken and dog\n",
    "a, b = map(int, input().split())\n",
    "if b % 2 != 0 or b < 2*a or b > 4*a:\n",
    "    print('invalid')\n",
    "else:\n",
    "    print(int(2*a - b/2),int(b/2 - a))    \n"
   ]
  },
  {
   "cell_type": "code",
   "execution_count": 113,
   "id": "c2c3c690",
   "metadata": {},
   "outputs": [
    {
     "name": "stdout",
     "output_type": "stream",
     "text": [
      "6 12 18 24 30 36 42 48 54 60 66 72 78 84 90 96 "
     ]
    }
   ],
   "source": [
    "# W4A16\n",
    "for i in range (1, 100):\n",
    "    if i % 2 == 0 and i % 3 == 0 :\n",
    "        print(i, end = ' ')"
   ]
  },
  {
   "cell_type": "code",
   "execution_count": 118,
   "id": "f0859b14",
   "metadata": {},
   "outputs": [
    {
     "name": "stdout",
     "output_type": "stream",
     "text": [
      "9 * 1 = 9\n",
      "9 * 2 = 18\n",
      "9 * 3 = 27\n",
      "9 * 4 = 36\n",
      "9 * 5 = 45\n",
      "9 * 6 = 54\n",
      "9 * 7 = 63\n",
      "9 * 8 = 72\n",
      "9 * 9 = 81\n",
      "9 * 10 = 90\n"
     ]
    }
   ],
   "source": [
    "# W4A17\n",
    "a = int(input())\n",
    "for i in range(1, 11):\n",
    "    print( a,'*',i,'=',a * i)"
   ]
  },
  {
   "cell_type": "code",
   "execution_count": 119,
   "id": "144387b0",
   "metadata": {},
   "outputs": [
    {
     "name": "stdout",
     "output_type": "stream",
     "text": [
      "1 2 3 6 "
     ]
    }
   ],
   "source": [
    "# W4A18\n",
    "a, b = map(int, input().split())\n",
    "for i in range (1, a + b):\n",
    "    if a % i == 0 and b % i == 0:\n",
    "        print(i, end = ' ')"
   ]
  },
  {
   "cell_type": "code",
   "execution_count": 120,
   "id": "3836c832",
   "metadata": {},
   "outputs": [
    {
     "name": "stdout",
     "output_type": "stream",
     "text": [
      "2 4 6 8 10 12 14 16 18 20 "
     ]
    }
   ],
   "source": [
    "# W4A19\n",
    "# Even numbers\n",
    "n = int(input())\n",
    "for i in range(1, n + 1):\n",
    "    if i % 2 == 0:\n",
    "        print(i, end = ' ')"
   ]
  },
  {
   "cell_type": "code",
   "execution_count": 129,
   "id": "fa62efd9",
   "metadata": {},
   "outputs": [
    {
     "name": "stdout",
     "output_type": "stream",
     "text": [
      "No\n"
     ]
    }
   ],
   "source": [
    "# W4A20\n",
    "n = int(input())\n",
    "while n % 2 == 0:\n",
    "    n = n // 2\n",
    "if n == 1:\n",
    "    print('Yes')\n",
    "else:\n",
    "    print('No')\n"
   ]
  },
  {
   "cell_type": "code",
   "execution_count": null,
   "id": "667ba453",
   "metadata": {},
   "outputs": [
    {
     "name": "stdout",
     "output_type": "stream",
     "text": [
      "6\n"
     ]
    }
   ],
   "source": [
    "# W4A21\n",
    "n = input()\n",
    "sum = 0\n",
    "for i in n:\n",
    "    sum += int(i)\n",
    "print(sum)    \n",
    "\n"
   ]
  },
  {
   "cell_type": "code",
   "execution_count": 142,
   "id": "1ea46329",
   "metadata": {},
   "outputs": [
    {
     "name": "stdout",
     "output_type": "stream",
     "text": [
      "Có 2 chữ số chẵn và 2 chữ số lẻ\n"
     ]
    }
   ],
   "source": [
    "# W4A22\n",
    "n = input()\n",
    "c = 0\n",
    "l = 0\n",
    "for i in n:\n",
    "    if int(i) % 2 == 0:\n",
    "        c += 1\n",
    "    else :\n",
    "        l += 1\n",
    "print(f'Có {c} chữ số chẵn và {l} chữ số lẻ')            "
   ]
  },
  {
   "cell_type": "code",
   "execution_count": null,
   "id": "4466d89a",
   "metadata": {},
   "outputs": [
    {
     "name": "stdout",
     "output_type": "stream",
     "text": [
      "5\n"
     ]
    }
   ],
   "source": [
    "# W4A23\n",
    "n = int(input())\n",
    "def sum(k):\n",
    "    res = 0\n",
    "    for i in range (1 , k + 1 ):\n",
    "        res += i\n",
    "    return res\n",
    "\n",
    "x = 1\n",
    "while sum(x) < n:\n",
    "    x += 1    \n",
    "    \n",
    "print(x-1)"
   ]
  },
  {
   "cell_type": "code",
   "execution_count": 158,
   "id": "6165e430",
   "metadata": {},
   "outputs": [
    {
     "name": "stdout",
     "output_type": "stream",
     "text": [
      "31\n"
     ]
    }
   ],
   "source": [
    "# W4A24\n",
    "n = int(input())\n",
    "def sum(k):\n",
    "    res = 0\n",
    "    for i in range (1 , k + 1 ):\n",
    "        res += 1/i\n",
    "    return res\n",
    "\n",
    "x = 1\n",
    "while sum(x) < n:\n",
    "    x += 1    \n",
    "    \n",
    "print(x)"
   ]
  },
  {
   "cell_type": "code",
   "execution_count": null,
   "id": "75767b89",
   "metadata": {},
   "outputs": [
    {
     "name": "stdout",
     "output_type": "stream",
     "text": [
      "22 1\n"
     ]
    }
   ],
   "source": [
    "# W4A25\n",
    "numbers = []\n",
    "while True:\n",
    "    n = int(input())\n",
    "    if n == -1:\n",
    "        break\n",
    "    numbers.append(n)\n",
    "print(max(numbers),min(numbers))\n",
    "if len (numbers) == 0:\n",
    "    print('invalid')"
   ]
  },
  {
   "cell_type": "code",
   "execution_count": 169,
   "id": "1e85a610",
   "metadata": {},
   "outputs": [
    {
     "name": "stdout",
     "output_type": "stream",
     "text": [
      "34\n"
     ]
    }
   ],
   "source": [
    "# W4A26\n",
    "# Fibonacci\n",
    "a = int(input())\n",
    "u1, u2 = 1,1\n",
    "while u2 <= a:\n",
    "    u1, u2 = u2, u1 + u2\n",
    "print(u1)\n"
   ]
  },
  {
   "cell_type": "code",
   "execution_count": 1,
   "id": "f02562d6",
   "metadata": {},
   "outputs": [
    {
     "name": "stdout",
     "output_type": "stream",
     "text": [
      "11\n"
     ]
    }
   ],
   "source": [
    "# W4A27\n",
    "s = input()\n",
    "count = 0\n",
    "for i in s :\n",
    "    if i != ' ':\n",
    "        count += 1\n",
    "print(count)        \n"
   ]
  },
  {
   "cell_type": "code",
   "execution_count": 5,
   "id": "086998fe",
   "metadata": {},
   "outputs": [
    {
     "name": "stdout",
     "output_type": "stream",
     "text": [
      "do"
     ]
    }
   ],
   "source": [
    "# W4A28\n",
    "s = input()\n",
    "for i in s :\n",
    "    if i == ' ':\n",
    "        break\n",
    "    else:\n",
    "        print(i, end = '')\n",
    "        \n",
    "        "
   ]
  },
  {
   "cell_type": "code",
   "execution_count": null,
   "id": "78ed0b04",
   "metadata": {},
   "outputs": [
    {
     "name": "stdout",
     "output_type": "stream",
     "text": [
      "Tổng : 30\n"
     ]
    }
   ],
   "source": [
    "# W4A29\n",
    "s = input('Nhập:').split(',')\n",
    "sum = 0\n",
    "for i in s:\n",
    "    i = int(i)\n",
    "    sum += i\n",
    "print('Tổng:',sum)    "
   ]
  },
  {
   "cell_type": "code",
   "execution_count": null,
   "id": "a23102bb",
   "metadata": {},
   "outputs": [
    {
     "name": "stdout",
     "output_type": "stream",
     "text": [
      "Số ký tự hoa : 2 Số ký tự thường: 5 Số ký tự số: 2\n"
     ]
    }
   ],
   "source": [
    "# W4A30\n",
    "s = input()\n",
    "u_count = 0\n",
    "l_count = 0\n",
    "d_count = 0\n",
    "\n",
    "for i in s:\n",
    "    if i.isupper():\n",
    "        u_count += 1\n",
    "    elif i.islower():\n",
    "        l_count += 1\n",
    "    elif i.isdigit():\n",
    "        d_count += 1\n",
    "print(\"Số ký tự hoa :\",u_count,'Số ký tự thường:',l_count,'Số ký tự số:',d_count)    \n",
    "\n",
    "\n"
   ]
  },
  {
   "cell_type": "code",
   "execution_count": 19,
   "id": "c512654d",
   "metadata": {},
   "outputs": [
    {
     "name": "stdout",
     "output_type": "stream",
     "text": [
      "Tổng: 24\n"
     ]
    }
   ],
   "source": [
    "# W4A31\n",
    "s = input('Nhập chuỗi:')\n",
    "res = 0\n",
    "for i in s:\n",
    "    if i.isdigit():\n",
    "        i = int(i)\n",
    "        res += i\n",
    "print('Tổng:',res)        \n"
   ]
  },
  {
   "cell_type": "code",
   "execution_count": 15,
   "id": "0b106cbf",
   "metadata": {},
   "outputs": [
    {
     "name": "stdout",
     "output_type": "stream",
     "text": [
      "Yes\n"
     ]
    }
   ],
   "source": [
    "# W4A32\n",
    "s = input()\n",
    "u_count = 0\n",
    "l_count = 0\n",
    "d_count = 0\n",
    "s_count = 0\n",
    "for i in s:\n",
    "    if i.isupper():\n",
    "        u_count += 1\n",
    "    elif i.islower():\n",
    "        l_count += 1\n",
    "    elif i.isdigit():\n",
    "        d_count += 1\n",
    "    else:\n",
    "        s_count += 1\n",
    "if u_count >= 1 and l_count >= 1 and d_count >= 1 and s_count >= 1 and len(s) > 6:\n",
    "    print('Yes')\n",
    "else:\n",
    "    print('No')\n",
    "            \n"
   ]
  },
  {
   "cell_type": "code",
   "execution_count": 23,
   "id": "e9fcfc5f",
   "metadata": {},
   "outputs": [
    {
     "name": "stdout",
     "output_type": "stream",
     "text": [
      "-1.234.567.899\n"
     ]
    }
   ],
   "source": [
    "# W4A33\n",
    "n = int(input(\"Nhập số nguyên: \"))\n",
    "s = str(abs(n))[::-1]\n",
    "string = []\n",
    "for i in range (0, len(s), 3):\n",
    "    res = s[i:i+3]\n",
    "    string.append(res)\n",
    "x = '.'.join(string)[::-1]\n",
    "if n < 0:\n",
    "    x = '-' + x\n",
    "\n",
    "print(x)    \n",
    "\n",
    "\n"
   ]
  },
  {
   "cell_type": "code",
   "execution_count": 24,
   "id": "bb907e4c",
   "metadata": {},
   "outputs": [
    {
     "name": "stdout",
     "output_type": "stream",
     "text": [
      "Sau khi xóa, chuỗi a:  mọi người\n"
     ]
    }
   ],
   "source": [
    "# W4A34\n",
    "a = input('Chuỗi a:')\n",
    "b = input('Chuỗi b:')\n",
    "pos = a.find(b)\n",
    "if pos != -1:\n",
    "    a = a[:pos] + a[pos + len(b):]\n",
    "print(\"Sau khi xóa, chuỗi a:\", a)"
   ]
  }
 ],
 "metadata": {
  "kernelspec": {
   "display_name": ".venv",
   "language": "python",
   "name": "python3"
  },
  "language_info": {
   "codemirror_mode": {
    "name": "ipython",
    "version": 3
   },
   "file_extension": ".py",
   "mimetype": "text/x-python",
   "name": "python",
   "nbconvert_exporter": "python",
   "pygments_lexer": "ipython3",
   "version": "3.13.7"
  }
 },
 "nbformat": 4,
 "nbformat_minor": 5
}
